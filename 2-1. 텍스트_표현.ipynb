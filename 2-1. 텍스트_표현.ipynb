{
  "cells": [
    {
      "cell_type": "markdown",
      "metadata": {
        "id": "view-in-github",
        "colab_type": "text"
      },
      "source": [
        "<a href=\"https://colab.research.google.com/github/yjoonjang/text-mining/blob/main/2-1.%20%ED%85%8D%EC%8A%A4%ED%8A%B8_%ED%91%9C%ED%98%84.ipynb\" target=\"_parent\"><img src=\"https://colab.research.google.com/assets/colab-badge.svg\" alt=\"Open In Colab\"/></a>"
      ]
    },
    {
      "cell_type": "code",
      "execution_count": null,
      "metadata": {
        "ExecuteTime": {
          "end_time": "2020-02-04T09:39:05.025163Z",
          "start_time": "2020-02-04T09:39:01.324031Z"
        },
        "id": "6p4ooKicbcRS"
      },
      "outputs": [],
      "source": [
        "import pandas as pd\n",
        "import numpy as np\n",
        "from sklearn.feature_extraction.text import CountVectorizer # frequency based DTM\n",
        "from sklearn.feature_extraction.text import TfidfVectorizer # tf-idf based DTM"
      ]
    },
    {
      "cell_type": "code",
      "execution_count": null,
      "metadata": {
        "ExecuteTime": {
          "end_time": "2020-02-04T09:39:05.041091Z",
          "start_time": "2020-02-04T09:39:05.033122Z"
        },
        "id": "z93Pj9eDbcRW"
      },
      "outputs": [],
      "source": [
        "# 단어 수 기준(TF) 벡터화\n",
        "vectorizer = CountVectorizer(min_df = 1, ngram_range = (1,1)) # min_df: 적어도 등장하는 횟수. ngram: 묶이는 단어의 수"
      ]
    },
    {
      "cell_type": "code",
      "execution_count": null,
      "metadata": {
        "ExecuteTime": {
          "end_time": "2020-02-04T09:39:05.050071Z",
          "start_time": "2020-02-04T09:39:05.045081Z"
        },
        "id": "cS3PEpGQbcRX"
      },
      "outputs": [],
      "source": [
        "# 코퍼스 구축\n",
        "corpus = ['이해 쏙쏙 텍스트마이닝 정말 정말 재미있어요.',\n",
        "          '저도 이해 쏙쏙 텍스트마이닝 재미있는 것 같아요.',\n",
        "          '저는 얼른 밥 먹으러 가고 싶어요.',\n",
        "          '저는 집에 가고 싶어요.']"
      ]
    },
    {
      "cell_type": "code",
      "execution_count": null,
      "metadata": {
        "ExecuteTime": {
          "end_time": "2020-02-04T09:39:05.064030Z",
          "start_time": "2020-02-04T09:39:05.055055Z"
        },
        "id": "-kh8_zk4bcRY",
        "colab": {
          "base_uri": "https://localhost:8080/"
        },
        "outputId": "6e3375a3-ccc0-4dd1-d2e2-99a28924b426"
      },
      "outputs": [
        {
          "output_type": "stream",
          "name": "stdout",
          "text": [
            "  (0, 6)\t1\n",
            "  (0, 4)\t1\n",
            "  (0, 13)\t1\n",
            "  (0, 11)\t2\n",
            "  (0, 8)\t1\n",
            "  (1, 6)\t1\n",
            "  (1, 4)\t1\n",
            "  (1, 13)\t1\n",
            "  (1, 10)\t1\n",
            "  (1, 7)\t1\n",
            "  (1, 1)\t1\n",
            "  (2, 9)\t1\n",
            "  (2, 5)\t1\n",
            "  (2, 2)\t1\n",
            "  (2, 0)\t1\n",
            "  (2, 3)\t1\n",
            "  (3, 9)\t1\n",
            "  (3, 0)\t1\n",
            "  (3, 3)\t1\n",
            "  (3, 12)\t1\n"
          ]
        }
      ],
      "source": [
        "# feature(여기에서는 단어 기준) 추출\n",
        "features = vectorizer.fit_transform(corpus)\n",
        "print(features)\n",
        "\n",
        "# sparse array"
      ]
    },
    {
      "cell_type": "code",
      "execution_count": null,
      "metadata": {
        "ExecuteTime": {
          "end_time": "2020-02-04T09:39:05.077992Z",
          "start_time": "2020-02-04T09:39:05.066024Z"
        },
        "id": "mBUou4X4bcRZ",
        "colab": {
          "base_uri": "https://localhost:8080/"
        },
        "outputId": "317bc347-ef9c-4c8b-8ff4-44bd74012ba3"
      },
      "outputs": [
        {
          "output_type": "execute_result",
          "data": {
            "text/plain": [
              "matrix([[0, 0, 0, 0, 1, 0, 1, 0, 1, 0, 0, 2, 0, 1],\n",
              "        [0, 1, 0, 0, 1, 0, 1, 1, 0, 0, 1, 0, 0, 1],\n",
              "        [1, 0, 1, 1, 0, 1, 0, 0, 0, 1, 0, 0, 0, 0],\n",
              "        [1, 0, 0, 1, 0, 0, 0, 0, 0, 1, 0, 0, 1, 0]])"
            ]
          },
          "metadata": {},
          "execution_count": 5
        }
      ],
      "source": [
        "# dense array로 변환\n",
        "features.todense()"
      ]
    },
    {
      "cell_type": "code",
      "execution_count": null,
      "metadata": {
        "ExecuteTime": {
          "end_time": "2020-02-04T09:39:05.083976Z",
          "start_time": "2020-02-04T09:39:05.079988Z"
        },
        "id": "qQbRD7mmbcRZ",
        "colab": {
          "base_uri": "https://localhost:8080/"
        },
        "outputId": "8eaf06a9-f325-4c6f-e078-3c16a4bbf2b9"
      },
      "outputs": [
        {
          "output_type": "stream",
          "name": "stdout",
          "text": [
            "[[0 0 0 0 1 0 1 0 1 0 0 2 0 1]\n",
            " [0 1 0 0 1 0 1 1 0 0 1 0 0 1]\n",
            " [1 0 1 1 0 1 0 0 0 1 0 0 0 0]\n",
            " [1 0 0 1 0 0 0 0 0 1 0 0 1 0]]\n"
          ]
        }
      ],
      "source": [
        "# DTM(Document Term Matrix) 만들기\n",
        "dtm_np = np.array(features.todense())\n",
        "print(dtm_np)"
      ]
    },
    {
      "cell_type": "code",
      "execution_count": null,
      "metadata": {
        "ExecuteTime": {
          "end_time": "2020-02-04T09:39:05.090969Z",
          "start_time": "2020-02-04T09:39:05.085971Z"
        },
        "scrolled": false,
        "id": "47r7_FbFbcRa",
        "colab": {
          "base_uri": "https://localhost:8080/"
        },
        "outputId": "8db57cf8-db22-49ca-bc0b-a06f1865ebad"
      },
      "outputs": [
        {
          "output_type": "stream",
          "name": "stdout",
          "text": [
            "['가고' '같아요' '먹으러' '싶어요' '쏙쏙' '얼른' '이해' '재미있는' '재미있어요' '저는' '저도' '정말' '집에'\n",
            " '텍스트마이닝']\n"
          ]
        }
      ],
      "source": [
        "# feature 이름 불러오기\n",
        "feature_names = vectorizer.get_feature_names_out()\n",
        "print(feature_names)"
      ]
    },
    {
      "cell_type": "code",
      "execution_count": null,
      "metadata": {
        "ExecuteTime": {
          "end_time": "2020-02-04T09:39:05.107917Z",
          "start_time": "2020-02-04T09:39:05.093949Z"
        },
        "id": "Te64_CHybcRb",
        "colab": {
          "base_uri": "https://localhost:8080/",
          "height": 236
        },
        "outputId": "92de6220-2012-401e-bc24-fe07dca82588"
      },
      "outputs": [
        {
          "output_type": "execute_result",
          "data": {
            "text/plain": [
              "   가고  같아요  먹으러  싶어요  쏙쏙  얼른  이해  재미있는  재미있어요  저는  저도  정말  집에  텍스트마이닝\n",
              "0   0    0    0    0   1   0   1     0      1   0   0   2   0       1\n",
              "1   0    1    0    0   1   0   1     1      0   0   1   0   0       1\n",
              "2   1    0    1    1   0   1   0     0      0   1   0   0   0       0\n",
              "3   1    0    0    1   0   0   0     0      0   1   0   0   1       0"
            ],
            "text/html": [
              "\n",
              "  <div id=\"df-58214c5b-3c3c-4ed2-907b-7c38636f26e2\">\n",
              "    <div class=\"colab-df-container\">\n",
              "      <div>\n",
              "<style scoped>\n",
              "    .dataframe tbody tr th:only-of-type {\n",
              "        vertical-align: middle;\n",
              "    }\n",
              "\n",
              "    .dataframe tbody tr th {\n",
              "        vertical-align: top;\n",
              "    }\n",
              "\n",
              "    .dataframe thead th {\n",
              "        text-align: right;\n",
              "    }\n",
              "</style>\n",
              "<table border=\"1\" class=\"dataframe\">\n",
              "  <thead>\n",
              "    <tr style=\"text-align: right;\">\n",
              "      <th></th>\n",
              "      <th>가고</th>\n",
              "      <th>같아요</th>\n",
              "      <th>먹으러</th>\n",
              "      <th>싶어요</th>\n",
              "      <th>쏙쏙</th>\n",
              "      <th>얼른</th>\n",
              "      <th>이해</th>\n",
              "      <th>재미있는</th>\n",
              "      <th>재미있어요</th>\n",
              "      <th>저는</th>\n",
              "      <th>저도</th>\n",
              "      <th>정말</th>\n",
              "      <th>집에</th>\n",
              "      <th>텍스트마이닝</th>\n",
              "    </tr>\n",
              "  </thead>\n",
              "  <tbody>\n",
              "    <tr>\n",
              "      <th>0</th>\n",
              "      <td>0</td>\n",
              "      <td>0</td>\n",
              "      <td>0</td>\n",
              "      <td>0</td>\n",
              "      <td>1</td>\n",
              "      <td>0</td>\n",
              "      <td>1</td>\n",
              "      <td>0</td>\n",
              "      <td>1</td>\n",
              "      <td>0</td>\n",
              "      <td>0</td>\n",
              "      <td>2</td>\n",
              "      <td>0</td>\n",
              "      <td>1</td>\n",
              "    </tr>\n",
              "    <tr>\n",
              "      <th>1</th>\n",
              "      <td>0</td>\n",
              "      <td>1</td>\n",
              "      <td>0</td>\n",
              "      <td>0</td>\n",
              "      <td>1</td>\n",
              "      <td>0</td>\n",
              "      <td>1</td>\n",
              "      <td>1</td>\n",
              "      <td>0</td>\n",
              "      <td>0</td>\n",
              "      <td>1</td>\n",
              "      <td>0</td>\n",
              "      <td>0</td>\n",
              "      <td>1</td>\n",
              "    </tr>\n",
              "    <tr>\n",
              "      <th>2</th>\n",
              "      <td>1</td>\n",
              "      <td>0</td>\n",
              "      <td>1</td>\n",
              "      <td>1</td>\n",
              "      <td>0</td>\n",
              "      <td>1</td>\n",
              "      <td>0</td>\n",
              "      <td>0</td>\n",
              "      <td>0</td>\n",
              "      <td>1</td>\n",
              "      <td>0</td>\n",
              "      <td>0</td>\n",
              "      <td>0</td>\n",
              "      <td>0</td>\n",
              "    </tr>\n",
              "    <tr>\n",
              "      <th>3</th>\n",
              "      <td>1</td>\n",
              "      <td>0</td>\n",
              "      <td>0</td>\n",
              "      <td>1</td>\n",
              "      <td>0</td>\n",
              "      <td>0</td>\n",
              "      <td>0</td>\n",
              "      <td>0</td>\n",
              "      <td>0</td>\n",
              "      <td>1</td>\n",
              "      <td>0</td>\n",
              "      <td>0</td>\n",
              "      <td>1</td>\n",
              "      <td>0</td>\n",
              "    </tr>\n",
              "  </tbody>\n",
              "</table>\n",
              "</div>\n",
              "      <button class=\"colab-df-convert\" onclick=\"convertToInteractive('df-58214c5b-3c3c-4ed2-907b-7c38636f26e2')\"\n",
              "              title=\"Convert this dataframe to an interactive table.\"\n",
              "              style=\"display:none;\">\n",
              "        \n",
              "  <svg xmlns=\"http://www.w3.org/2000/svg\" height=\"24px\"viewBox=\"0 0 24 24\"\n",
              "       width=\"24px\">\n",
              "    <path d=\"M0 0h24v24H0V0z\" fill=\"none\"/>\n",
              "    <path d=\"M18.56 5.44l.94 2.06.94-2.06 2.06-.94-2.06-.94-.94-2.06-.94 2.06-2.06.94zm-11 1L8.5 8.5l.94-2.06 2.06-.94-2.06-.94L8.5 2.5l-.94 2.06-2.06.94zm10 10l.94 2.06.94-2.06 2.06-.94-2.06-.94-.94-2.06-.94 2.06-2.06.94z\"/><path d=\"M17.41 7.96l-1.37-1.37c-.4-.4-.92-.59-1.43-.59-.52 0-1.04.2-1.43.59L10.3 9.45l-7.72 7.72c-.78.78-.78 2.05 0 2.83L4 21.41c.39.39.9.59 1.41.59.51 0 1.02-.2 1.41-.59l7.78-7.78 2.81-2.81c.8-.78.8-2.07 0-2.86zM5.41 20L4 18.59l7.72-7.72 1.47 1.35L5.41 20z\"/>\n",
              "  </svg>\n",
              "      </button>\n",
              "      \n",
              "  <style>\n",
              "    .colab-df-container {\n",
              "      display:flex;\n",
              "      flex-wrap:wrap;\n",
              "      gap: 12px;\n",
              "    }\n",
              "\n",
              "    .colab-df-convert {\n",
              "      background-color: #E8F0FE;\n",
              "      border: none;\n",
              "      border-radius: 50%;\n",
              "      cursor: pointer;\n",
              "      display: none;\n",
              "      fill: #1967D2;\n",
              "      height: 32px;\n",
              "      padding: 0 0 0 0;\n",
              "      width: 32px;\n",
              "    }\n",
              "\n",
              "    .colab-df-convert:hover {\n",
              "      background-color: #E2EBFA;\n",
              "      box-shadow: 0px 1px 2px rgba(60, 64, 67, 0.3), 0px 1px 3px 1px rgba(60, 64, 67, 0.15);\n",
              "      fill: #174EA6;\n",
              "    }\n",
              "\n",
              "    [theme=dark] .colab-df-convert {\n",
              "      background-color: #3B4455;\n",
              "      fill: #D2E3FC;\n",
              "    }\n",
              "\n",
              "    [theme=dark] .colab-df-convert:hover {\n",
              "      background-color: #434B5C;\n",
              "      box-shadow: 0px 1px 3px 1px rgba(0, 0, 0, 0.15);\n",
              "      filter: drop-shadow(0px 1px 2px rgba(0, 0, 0, 0.3));\n",
              "      fill: #FFFFFF;\n",
              "    }\n",
              "  </style>\n",
              "\n",
              "      <script>\n",
              "        const buttonEl =\n",
              "          document.querySelector('#df-58214c5b-3c3c-4ed2-907b-7c38636f26e2 button.colab-df-convert');\n",
              "        buttonEl.style.display =\n",
              "          google.colab.kernel.accessAllowed ? 'block' : 'none';\n",
              "\n",
              "        async function convertToInteractive(key) {\n",
              "          const element = document.querySelector('#df-58214c5b-3c3c-4ed2-907b-7c38636f26e2');\n",
              "          const dataTable =\n",
              "            await google.colab.kernel.invokeFunction('convertToInteractive',\n",
              "                                                     [key], {});\n",
              "          if (!dataTable) return;\n",
              "\n",
              "          const docLinkHtml = 'Like what you see? Visit the ' +\n",
              "            '<a target=\"_blank\" href=https://colab.research.google.com/notebooks/data_table.ipynb>data table notebook</a>'\n",
              "            + ' to learn more about interactive tables.';\n",
              "          element.innerHTML = '';\n",
              "          dataTable['output_type'] = 'display_data';\n",
              "          await google.colab.output.renderOutput(dataTable, element);\n",
              "          const docLink = document.createElement('div');\n",
              "          docLink.innerHTML = docLinkHtml;\n",
              "          element.appendChild(docLink);\n",
              "        }\n",
              "      </script>\n",
              "    </div>\n",
              "  </div>\n",
              "  "
            ]
          },
          "metadata": {},
          "execution_count": 8
        }
      ],
      "source": [
        "# DataFrame 생성\n",
        "pd.DataFrame(data = dtm_np, columns = feature_names)"
      ]
    },
    {
      "cell_type": "code",
      "execution_count": null,
      "metadata": {
        "ExecuteTime": {
          "end_time": "2020-02-04T09:39:05.115892Z",
          "start_time": "2020-02-04T09:39:05.109909Z"
        },
        "id": "GkIl459ibcRc",
        "colab": {
          "base_uri": "https://localhost:8080/"
        },
        "outputId": "4884e76a-8781-4be1-b416-d6ba218885ae"
      },
      "outputs": [
        {
          "output_type": "stream",
          "name": "stdout",
          "text": [
            "2.8284271247461903\n",
            "3.605551275463989\n"
          ]
        }
      ],
      "source": [
        "# 유클리다안 유사도 구하기\n",
        "print(np.linalg.norm(dtm_np[1]-dtm_np[0]))\n",
        "print(np.linalg.norm(dtm_np[2]-dtm_np[0]))"
      ]
    },
    {
      "cell_type": "code",
      "execution_count": null,
      "metadata": {
        "ExecuteTime": {
          "end_time": "2020-02-04T09:39:05.127887Z",
          "start_time": "2020-02-04T09:39:05.117887Z"
        },
        "id": "E87-0t6LbcRd",
        "colab": {
          "base_uri": "https://localhost:8080/"
        },
        "outputId": "ea4e83f4-dc41-40c7-e845-d5e5520bb580"
      },
      "outputs": [
        {
          "output_type": "stream",
          "name": "stdout",
          "text": [
            "0.0\n",
            "2.8284271247461903\n",
            "3.605551275463989\n",
            "3.4641016151377544\n",
            "2.8284271247461903\n",
            "0.0\n",
            "3.3166247903554\n",
            "3.1622776601683795\n",
            "3.605551275463989\n",
            "3.3166247903554\n",
            "0.0\n",
            "1.7320508075688772\n",
            "3.4641016151377544\n",
            "3.1622776601683795\n",
            "1.7320508075688772\n",
            "0.0\n"
          ]
        }
      ],
      "source": [
        "# 모든 유클리디안 거리 유사도 구하기\n",
        "euclidian_distance_similarity = []\n",
        "for k in range(4):\n",
        "    for i in range(4):\n",
        "        euclidian_distance = np.linalg.norm(dtm_np[k]-dtm_np[i])\n",
        "        euclidian_distance_similarity.append(euclidian_distance)\n",
        "        print(euclidian_distance)"
      ]
    },
    {
      "cell_type": "code",
      "execution_count": null,
      "metadata": {
        "ExecuteTime": {
          "end_time": "2020-02-04T09:39:05.133870Z",
          "start_time": "2020-02-04T09:39:05.128889Z"
        },
        "id": "ELovTyZPbcRe",
        "colab": {
          "base_uri": "https://localhost:8080/"
        },
        "outputId": "f35348e3-027d-42a6-d334-37ae54b0ffd0"
      },
      "outputs": [
        {
          "output_type": "execute_result",
          "data": {
            "text/plain": [
              "array([[0.        , 2.82842712, 3.60555128, 3.46410162],\n",
              "       [2.82842712, 0.        , 3.31662479, 3.16227766],\n",
              "       [3.60555128, 3.31662479, 0.        , 1.73205081],\n",
              "       [3.46410162, 3.16227766, 1.73205081, 0.        ]])"
            ]
          },
          "metadata": {},
          "execution_count": 12
        }
      ],
      "source": [
        "# 유클리디안 거리 유사도 4X4 행렬로 변환\n",
        "ud_np = np.array(euclidian_distance_similarity)\n",
        "ud_np.reshape([4,4])"
      ]
    },
    {
      "cell_type": "code",
      "execution_count": null,
      "metadata": {
        "ExecuteTime": {
          "end_time": "2020-02-04T09:39:05.430078Z",
          "start_time": "2020-02-04T09:39:05.135839Z"
        },
        "id": "LkHyX5DvbcRe"
      },
      "outputs": [],
      "source": [
        "import matplotlib.pyplot as plt\n",
        "import seaborn as sns"
      ]
    },
    {
      "cell_type": "code",
      "execution_count": null,
      "metadata": {
        "ExecuteTime": {
          "end_time": "2020-02-04T09:39:05.437031Z",
          "start_time": "2020-02-04T09:39:05.431071Z"
        },
        "id": "CgiNrF69bcRe"
      },
      "outputs": [],
      "source": [
        "%matplotlib inline"
      ]
    },
    {
      "cell_type": "code",
      "execution_count": null,
      "metadata": {
        "ExecuteTime": {
          "end_time": "2020-02-04T09:39:05.649502Z",
          "start_time": "2020-02-04T09:39:05.438029Z"
        },
        "id": "2jI3lkZIbcRf",
        "colab": {
          "base_uri": "https://localhost:8080/",
          "height": 448
        },
        "outputId": "5af7cd67-8366-4463-a13c-3f60e4089903"
      },
      "outputs": [
        {
          "output_type": "execute_result",
          "data": {
            "text/plain": [
              "<Axes: >"
            ]
          },
          "metadata": {},
          "execution_count": 15
        },
        {
          "output_type": "display_data",
          "data": {
            "text/plain": [
              "<Figure size 640x480 with 2 Axes>"
            ],
            "image/png": "[encoded data removed]"
          },
          "metadata": {}
        }
      ],
      "source": [
        "# 히트맵 시각화\n",
        "# sns.set(rc={'figure.figsize':(10,10)}) 사진 크기\n",
        "sns.heatmap(data = ud_np.reshape([4,4]),annot = True, fmt = '.2f', linewidths=.5, cmap = 'summer')"
      ]
    },
    {
      "cell_type": "code",
      "execution_count": null,
      "metadata": {
        "ExecuteTime": {
          "end_time": "2020-02-04T09:39:05.656446Z",
          "start_time": "2020-02-04T09:39:05.650460Z"
        },
        "id": "R74o1fpcbcRg",
        "colab": {
          "base_uri": "https://localhost:8080/"
        },
        "outputId": "4f8a4535-9689-4705-ef4f-e684e32eacd2"
      },
      "outputs": [
        {
          "output_type": "stream",
          "name": "stdout",
          "text": [
            "0.9999999999999998\n",
            "0.43301270189221935\n",
            "0.0\n",
            "0.0\n",
            "0.43301270189221935\n",
            "1.0000000000000002\n",
            "0.0\n",
            "0.0\n",
            "0.0\n",
            "0.0\n",
            "0.9999999999999998\n",
            "0.6708203932499369\n",
            "0.0\n",
            "0.0\n",
            "0.6708203932499369\n",
            "1.0\n"
          ]
        }
      ],
      "source": [
        "# 모든 코사인 유사도 구하기\n",
        "cosine_similarity = []\n",
        "for k in range(4):\n",
        "    for i in range(4):\n",
        "        cosine = np.dot(dtm_np[k],dtm_np[i])/(np.linalg.norm(dtm_np[k])*np.linalg.norm(dtm_np[i]))\n",
        "        cosine_similarity.append(cosine)\n",
        "        print(cosine)"
      ]
    },
    {
      "cell_type": "code",
      "execution_count": null,
      "metadata": {
        "ExecuteTime": {
          "end_time": "2020-02-04T09:39:05.670443Z",
          "start_time": "2020-02-04T09:39:05.657443Z"
        },
        "id": "vWVsOrCSbcRg",
        "colab": {
          "base_uri": "https://localhost:8080/"
        },
        "outputId": "52069a1c-9a28-4590-ead2-5bb8a54a7a75"
      },
      "outputs": [
        {
          "output_type": "execute_result",
          "data": {
            "text/plain": [
              "array([[1.        , 0.4330127 , 0.        , 0.        ],\n",
              "       [0.4330127 , 1.        , 0.        , 0.        ],\n",
              "       [0.        , 0.        , 1.        , 0.67082039],\n",
              "       [0.        , 0.        , 0.67082039, 1.        ]])"
            ]
          },
          "metadata": {},
          "execution_count": 17
        }
      ],
      "source": [
        "# 코사인 유사도 4X4 행렬 구하기\n",
        "cs_np = np.array(cosine_similarity)\n",
        "cs_np.reshape(4,4)"
      ]
    },
    {
      "cell_type": "code",
      "execution_count": null,
      "metadata": {
        "ExecuteTime": {
          "end_time": "2020-02-04T09:39:05.855911Z",
          "start_time": "2020-02-04T09:39:05.671405Z"
        },
        "id": "BdIGQhRLbcRg",
        "colab": {
          "base_uri": "https://localhost:8080/",
          "height": 453
        },
        "outputId": "a0919aa0-2470-4759-9f19-bf148d69b8e7"
      },
      "outputs": [
        {
          "output_type": "execute_result",
          "data": {
            "text/plain": [
              "<Axes: >"
            ]
          },
          "metadata": {},
          "execution_count": 18
        },
        {
          "output_type": "display_data",
          "data": {
            "text/plain": [
              "<Figure size 640x480 with 2 Axes>"
            ],
            "image/png": "[encoded data removed]"
          },
          "metadata": {}
        }
      ],
      "source": [
        "# 히트맵 시각화\n",
        "sns.heatmap(data = cs_np.reshape(4,4), annot = True, fmt = '.2f', linewidths=.5)"
      ]
    },
    {
      "cell_type": "code",
      "execution_count": null,
      "metadata": {
        "ExecuteTime": {
          "end_time": "2020-02-04T09:39:05.862892Z",
          "start_time": "2020-02-04T09:39:05.856909Z"
        },
        "id": "sxUKA8N_bcRh"
      },
      "outputs": [],
      "source": [
        "# TFIDF 벡터화\n",
        "vectorizer = TfidfVectorizer(min_df=1, ngram_range=(1,1))\n",
        "features = vectorizer.fit_transform(corpus)"
      ]
    },
    {
      "cell_type": "code",
      "execution_count": null,
      "metadata": {
        "ExecuteTime": {
          "end_time": "2020-02-04T09:39:05.867880Z",
          "start_time": "2020-02-04T09:39:05.864890Z"
        },
        "id": "_aWesAJMbcRh"
      },
      "outputs": [],
      "source": [
        "# feature 이름 불러 오기\n",
        "feature_names = vectorizer.get_feature_names_out()"
      ]
    },
    {
      "cell_type": "code",
      "execution_count": null,
      "metadata": {
        "ExecuteTime": {
          "end_time": "2020-02-04T09:39:05.877853Z",
          "start_time": "2020-02-04T09:39:05.869875Z"
        },
        "id": "RRQMQ_33bcRh",
        "colab": {
          "base_uri": "https://localhost:8080/"
        },
        "outputId": "d1f56537-89a5-4e3c-b503-f90b8c52533c"
      },
      "outputs": [
        {
          "output_type": "execute_result",
          "data": {
            "text/plain": [
              "matrix([[0.        , 0.        , 0.        , 0.        , 0.30091213,\n",
              "         0.        , 0.30091213, 0.        , 0.38166888, 0.        ,\n",
              "         0.        , 0.76333776, 0.        , 0.30091213],\n",
              "        [0.        , 0.4533864 , 0.        , 0.        , 0.35745504,\n",
              "         0.        , 0.35745504, 0.4533864 , 0.        , 0.        ,\n",
              "         0.4533864 , 0.        , 0.        , 0.35745504],\n",
              "        [0.40104275, 0.        , 0.50867187, 0.40104275, 0.        ,\n",
              "         0.50867187, 0.        , 0.        , 0.        , 0.40104275,\n",
              "         0.        , 0.        , 0.        , 0.        ],\n",
              "        [0.46580855, 0.        , 0.        , 0.46580855, 0.        ,\n",
              "         0.        , 0.        , 0.        , 0.        , 0.46580855,\n",
              "         0.        , 0.        , 0.59081908, 0.        ]])"
            ]
          },
          "metadata": {},
          "execution_count": 20
        }
      ],
      "source": [
        "# dense array로 변환\n",
        "features.todense()"
      ]
    },
    {
      "cell_type": "code",
      "execution_count": null,
      "metadata": {
        "ExecuteTime": {
          "end_time": "2020-02-04T09:39:05.886873Z",
          "start_time": "2020-02-04T09:39:05.879849Z"
        },
        "id": "Vi5D3Wz6bcRh"
      },
      "outputs": [],
      "source": [
        "# DTM 생성\n",
        "dtm_np = np.array(features.todense())"
      ]
    },
    {
      "cell_type": "code",
      "execution_count": null,
      "metadata": {
        "ExecuteTime": {
          "end_time": "2020-02-04T09:39:05.904820Z",
          "start_time": "2020-02-04T09:39:05.888825Z"
        },
        "id": "8KfnjpXRbcRi",
        "colab": {
          "base_uri": "https://localhost:8080/",
          "height": 256
        },
        "outputId": "17d5c7fc-0265-47fe-dc5d-4cfc2cdb959a"
      },
      "outputs": [
        {
          "output_type": "execute_result",
          "data": {
            "text/plain": [
              "         가고       같아요       먹으러       싶어요        쏙쏙        얼른        이해  \\\n",
              "0  0.000000  0.000000  0.000000  0.000000  0.300912  0.000000  0.300912   \n",
              "1  0.000000  0.453386  0.000000  0.000000  0.357455  0.000000  0.357455   \n",
              "2  0.401043  0.000000  0.508672  0.401043  0.000000  0.508672  0.000000   \n",
              "3  0.465809  0.000000  0.000000  0.465809  0.000000  0.000000  0.000000   \n",
              "\n",
              "       재미있는     재미있어요        저는        저도        정말        집에    텍스트마이닝  \n",
              "0  0.000000  0.381669  0.000000  0.000000  0.763338  0.000000  0.300912  \n",
              "1  0.453386  0.000000  0.000000  0.453386  0.000000  0.000000  0.357455  \n",
              "2  0.000000  0.000000  0.401043  0.000000  0.000000  0.000000  0.000000  \n",
              "3  0.000000  0.000000  0.465809  0.000000  0.000000  0.590819  0.000000  "
            ],
            "text/html": [
              "\n",
              "  <div id=\"df-b2f00ef5-6e03-4b84-b519-c55061342398\">\n",
              "    <div class=\"colab-df-container\">\n",
              "      <div>\n",
              "<style scoped>\n",
              "    .dataframe tbody tr th:only-of-type {\n",
              "        vertical-align: middle;\n",
              "    }\n",
              "\n",
              "    .dataframe tbody tr th {\n",
              "        vertical-align: top;\n",
              "    }\n",
              "\n",
              "    .dataframe thead th {\n",
              "        text-align: right;\n",
              "    }\n",
              "</style>\n",
              "<table border=\"1\" class=\"dataframe\">\n",
              "  <thead>\n",
              "    <tr style=\"text-align: right;\">\n",
              "      <th></th>\n",
              "      <th>가고</th>\n",
              "      <th>같아요</th>\n",
              "      <th>먹으러</th>\n",
              "      <th>싶어요</th>\n",
              "      <th>쏙쏙</th>\n",
              "      <th>얼른</th>\n",
              "      <th>이해</th>\n",
              "      <th>재미있는</th>\n",
              "      <th>재미있어요</th>\n",
              "      <th>저는</th>\n",
              "      <th>저도</th>\n",
              "      <th>정말</th>\n",
              "      <th>집에</th>\n",
              "      <th>텍스트마이닝</th>\n",
              "    </tr>\n",
              "  </thead>\n",
              "  <tbody>\n",
              "    <tr>\n",
              "      <th>0</th>\n",
              "      <td>0.000000</td>\n",
              "      <td>0.000000</td>\n",
              "      <td>0.000000</td>\n",
              "      <td>0.000000</td>\n",
              "      <td>0.300912</td>\n",
              "      <td>0.000000</td>\n",
              "      <td>0.300912</td>\n",
              "      <td>0.000000</td>\n",
              "      <td>0.381669</td>\n",
              "      <td>0.000000</td>\n",
              "      <td>0.000000</td>\n",
              "      <td>0.763338</td>\n",
              "      <td>0.000000</td>\n",
              "      <td>0.300912</td>\n",
              "    </tr>\n",
              "    <tr>\n",
              "      <th>1</th>\n",
              "      <td>0.000000</td>\n",
              "      <td>0.453386</td>\n",
              "      <td>0.000000</td>\n",
              "      <td>0.000000</td>\n",
              "      <td>0.357455</td>\n",
              "      <td>0.000000</td>\n",
              "      <td>0.357455</td>\n",
              "      <td>0.453386</td>\n",
              "      <td>0.000000</td>\n",
              "      <td>0.000000</td>\n",
              "      <td>0.453386</td>\n",
              "      <td>0.000000</td>\n",
              "      <td>0.000000</td>\n",
              "      <td>0.357455</td>\n",
              "    </tr>\n",
              "    <tr>\n",
              "      <th>2</th>\n",
              "      <td>0.401043</td>\n",
              "      <td>0.000000</td>\n",
              "      <td>0.508672</td>\n",
              "      <td>0.401043</td>\n",
              "      <td>0.000000</td>\n",
              "      <td>0.508672</td>\n",
              "      <td>0.000000</td>\n",
              "      <td>0.000000</td>\n",
              "      <td>0.000000</td>\n",
              "      <td>0.401043</td>\n",
              "      <td>0.000000</td>\n",
              "      <td>0.000000</td>\n",
              "      <td>0.000000</td>\n",
              "      <td>0.000000</td>\n",
              "    </tr>\n",
              "    <tr>\n",
              "      <th>3</th>\n",
              "      <td>0.465809</td>\n",
              "      <td>0.000000</td>\n",
              "      <td>0.000000</td>\n",
              "      <td>0.465809</td>\n",
              "      <td>0.000000</td>\n",
              "      <td>0.000000</td>\n",
              "      <td>0.000000</td>\n",
              "      <td>0.000000</td>\n",
              "      <td>0.000000</td>\n",
              "      <td>0.465809</td>\n",
              "      <td>0.000000</td>\n",
              "      <td>0.000000</td>\n",
              "      <td>0.590819</td>\n",
              "      <td>0.000000</td>\n",
              "    </tr>\n",
              "  </tbody>\n",
              "</table>\n",
              "</div>\n",
              "      <button class=\"colab-df-convert\" onclick=\"convertToInteractive('df-b2f00ef5-6e03-4b84-b519-c55061342398')\"\n",
              "              title=\"Convert this dataframe to an interactive table.\"\n",
              "              style=\"display:none;\">\n",
              "        \n",
              "  <svg xmlns=\"http://www.w3.org/2000/svg\" height=\"24px\"viewBox=\"0 0 24 24\"\n",
              "       width=\"24px\">\n",
              "    <path d=\"M0 0h24v24H0V0z\" fill=\"none\"/>\n",
              "    <path d=\"M18.56 5.44l.94 2.06.94-2.06 2.06-.94-2.06-.94-.94-2.06-.94 2.06-2.06.94zm-11 1L8.5 8.5l.94-2.06 2.06-.94-2.06-.94L8.5 2.5l-.94 2.06-2.06.94zm10 10l.94 2.06.94-2.06 2.06-.94-2.06-.94-.94-2.06-.94 2.06-2.06.94z\"/><path d=\"M17.41 7.96l-1.37-1.37c-.4-.4-.92-.59-1.43-.59-.52 0-1.04.2-1.43.59L10.3 9.45l-7.72 7.72c-.78.78-.78 2.05 0 2.83L4 21.41c.39.39.9.59 1.41.59.51 0 1.02-.2 1.41-.59l7.78-7.78 2.81-2.81c.8-.78.8-2.07 0-2.86zM5.41 20L4 18.59l7.72-7.72 1.47 1.35L5.41 20z\"/>\n",
              "  </svg>\n",
              "      </button>\n",
              "      \n",
              "  <style>\n",
              "    .colab-df-container {\n",
              "      display:flex;\n",
              "      flex-wrap:wrap;\n",
              "      gap: 12px;\n",
              "    }\n",
              "\n",
              "    .colab-df-convert {\n",
              "      background-color: #E8F0FE;\n",
              "      border: none;\n",
              "      border-radius: 50%;\n",
              "      cursor: pointer;\n",
              "      display: none;\n",
              "      fill: #1967D2;\n",
              "      height: 32px;\n",
              "      padding: 0 0 0 0;\n",
              "      width: 32px;\n",
              "    }\n",
              "\n",
              "    .colab-df-convert:hover {\n",
              "      background-color: #E2EBFA;\n",
              "      box-shadow: 0px 1px 2px rgba(60, 64, 67, 0.3), 0px 1px 3px 1px rgba(60, 64, 67, 0.15);\n",
              "      fill: #174EA6;\n",
              "    }\n",
              "\n",
              "    [theme=dark] .colab-df-convert {\n",
              "      background-color: #3B4455;\n",
              "      fill: #D2E3FC;\n",
              "    }\n",
              "\n",
              "    [theme=dark] .colab-df-convert:hover {\n",
              "      background-color: #434B5C;\n",
              "      box-shadow: 0px 1px 3px 1px rgba(0, 0, 0, 0.15);\n",
              "      filter: drop-shadow(0px 1px 2px rgba(0, 0, 0, 0.3));\n",
              "      fill: #FFFFFF;\n",
              "    }\n",
              "  </style>\n",
              "\n",
              "      <script>\n",
              "        const buttonEl =\n",
              "          document.querySelector('#df-b2f00ef5-6e03-4b84-b519-c55061342398 button.colab-df-convert');\n",
              "        buttonEl.style.display =\n",
              "          google.colab.kernel.accessAllowed ? 'block' : 'none';\n",
              "\n",
              "        async function convertToInteractive(key) {\n",
              "          const element = document.querySelector('#df-b2f00ef5-6e03-4b84-b519-c55061342398');\n",
              "          const dataTable =\n",
              "            await google.colab.kernel.invokeFunction('convertToInteractive',\n",
              "                                                     [key], {});\n",
              "          if (!dataTable) return;\n",
              "\n",
              "          const docLinkHtml = 'Like what you see? Visit the ' +\n",
              "            '<a target=\"_blank\" href=https://colab.research.google.com/notebooks/data_table.ipynb>data table notebook</a>'\n",
              "            + ' to learn more about interactive tables.';\n",
              "          element.innerHTML = '';\n",
              "          dataTable['output_type'] = 'display_data';\n",
              "          await google.colab.output.renderOutput(dataTable, element);\n",
              "          const docLink = document.createElement('div');\n",
              "          docLink.innerHTML = docLinkHtml;\n",
              "          element.appendChild(docLink);\n",
              "        }\n",
              "      </script>\n",
              "    </div>\n",
              "  </div>\n",
              "  "
            ]
          },
          "metadata": {},
          "execution_count": 22
        }
      ],
      "source": [
        "# DataFrame 생성\n",
        "pd.DataFrame(data = dtm_np, columns = feature_names)"
      ]
    },
    {
      "cell_type": "code",
      "execution_count": null,
      "metadata": {
        "ExecuteTime": {
          "end_time": "2020-02-04T09:39:05.919778Z",
          "start_time": "2020-02-04T09:39:05.909768Z"
        },
        "id": "Zrz8YXtHbcRi",
        "colab": {
          "base_uri": "https://localhost:8080/"
        },
        "outputId": "8c293eb1-15cf-4e3c-d5a7-dfc7dbc52eb0"
      },
      "outputs": [
        {
          "output_type": "stream",
          "name": "stdout",
          "text": [
            "0.0\n",
            "1.1638834352400607\n",
            "1.4142135623730951\n",
            "1.414213562373095\n",
            "1.1638834352400607\n",
            "0.0\n",
            "1.4142135623730951\n",
            "1.4142135623730951\n",
            "1.4142135623730951\n",
            "1.4142135623730951\n",
            "0.0\n",
            "0.9376274101106029\n",
            "1.414213562373095\n",
            "1.4142135623730951\n",
            "0.9376274101106029\n",
            "0.0\n"
          ]
        }
      ],
      "source": [
        "# 모든 유클리디안 거리 유사도 구하기\n",
        "euclidian_distance_similarity = []\n",
        "for k in range(4):\n",
        "    for i in range(4):\n",
        "        euclidian_distance = np.linalg.norm(dtm_np[k]-dtm_np[i])\n",
        "        euclidian_distance_similarity.append(euclidian_distance)\n",
        "        print(euclidian_distance)"
      ]
    },
    {
      "cell_type": "code",
      "execution_count": null,
      "metadata": {
        "ExecuteTime": {
          "end_time": "2020-02-04T09:39:06.092280Z",
          "start_time": "2020-02-04T09:39:05.921737Z"
        },
        "id": "ri001CdvbcRi",
        "colab": {
          "base_uri": "https://localhost:8080/",
          "height": 501
        },
        "outputId": "bb636629-086b-4715-c0fa-f497221cc344"
      },
      "outputs": [
        {
          "output_type": "execute_result",
          "data": {
            "text/plain": [
              "array([[0.        , 1.16388344, 1.41421356, 1.41421356],\n",
              "       [1.16388344, 0.        , 1.41421356, 1.41421356],\n",
              "       [1.41421356, 1.41421356, 0.        , 0.93762741],\n",
              "       [1.41421356, 1.41421356, 0.93762741, 0.        ]])"
            ]
          },
          "metadata": {},
          "execution_count": 24
        },
        {
          "output_type": "display_data",
          "data": {
            "text/plain": [
              "<Figure size 640x480 with 2 Axes>"
            ],
            "image/png": "[encoded data removed]"
          },
          "metadata": {}
        }
      ],
      "source": [
        "# 히트맵 시각화\n",
        "sns.heatmap(data = ud_np.reshape([4,4]),annot = True, fmt = '.2f', linewidths=.5, cmap = 'summer')\n",
        "ud_np = np.array(euclidian_distance_similarity)\n",
        "ud_np.reshape([4,4])"
      ]
    },
    {
      "cell_type": "code",
      "execution_count": null,
      "metadata": {
        "id": "nY_eyPDmbcRi",
        "colab": {
          "base_uri": "https://localhost:8080/"
        },
        "outputId": "bd7cd453-4433-45cc-dd11-f6e51e52782e"
      },
      "outputs": [
        {
          "output_type": "stream",
          "name": "stdout",
          "text": [
            "0.3226876745868979\n"
          ]
        }
      ],
      "source": [
        "# 코사인 유사도 구하기\n",
        "print(np.dot(dtm_np[0],dtm_np[1])/(np.linalg.norm(dtm_np[0])*np.linalg.norm(dtm_np[1])))"
      ]
    },
    {
      "cell_type": "code",
      "execution_count": null,
      "metadata": {
        "ExecuteTime": {
          "end_time": "2020-02-04T09:39:06.100258Z",
          "start_time": "2020-02-04T09:39:06.094274Z"
        },
        "id": "fntQHsODbcRi",
        "colab": {
          "base_uri": "https://localhost:8080/"
        },
        "outputId": "ea613c3a-905a-4207-81b8-eb90cd479bc9"
      },
      "outputs": [
        {
          "output_type": "stream",
          "name": "stdout",
          "text": [
            "1.0000000000000002\n",
            "0.3226876745868979\n",
            "0.0\n",
            "0.0\n",
            "0.3226876745868979\n",
            "1.0\n",
            "0.0\n",
            "0.0\n",
            "0.0\n",
            "0.0\n",
            "1.0\n",
            "0.5604274199046415\n",
            "0.0\n",
            "0.0\n",
            "0.5604274199046415\n",
            "1.0000000000000002\n"
          ]
        }
      ],
      "source": [
        "# 모든 코사인 유사도 구하기\n",
        "cosine_similarity = []\n",
        "for k in range(4):\n",
        "    for i in range(4):\n",
        "        cosine = np.dot(dtm_np[k],dtm_np[i])/(np.linalg.norm(dtm_np[k])*np.linalg.norm(dtm_np[i]))\n",
        "        cosine_similarity.append(cosine)\n",
        "        print(cosine)"
      ]
    },
    {
      "cell_type": "code",
      "execution_count": null,
      "metadata": {
        "ExecuteTime": {
          "end_time": "2020-02-04T09:39:06.107244Z",
          "start_time": "2020-02-04T09:39:06.102254Z"
        },
        "id": "4PSuw_mbbcRj",
        "colab": {
          "base_uri": "https://localhost:8080/"
        },
        "outputId": "9cb8ee61-5ebe-4357-fffe-907fe6d12a1c"
      },
      "outputs": [
        {
          "output_type": "execute_result",
          "data": {
            "text/plain": [
              "array([[1.        , 0.32268767, 0.        , 0.        ],\n",
              "       [0.32268767, 1.        , 0.        , 0.        ],\n",
              "       [0.        , 0.        , 1.        , 0.56042742],\n",
              "       [0.        , 0.        , 0.56042742, 1.        ]])"
            ]
          },
          "metadata": {},
          "execution_count": 27
        }
      ],
      "source": [
        "# 코사인 유사도 4X4 행렬 구하기\n",
        "cs_np = np.array(cosine_similarity)\n",
        "cs_np.reshape(4,4)"
      ]
    },
    {
      "cell_type": "code",
      "execution_count": null,
      "metadata": {
        "ExecuteTime": {
          "end_time": "2020-02-04T09:39:06.317712Z",
          "start_time": "2020-02-04T09:39:06.109234Z"
        },
        "id": "s0n27KBnbcRj",
        "colab": {
          "base_uri": "https://localhost:8080/",
          "height": 453
        },
        "outputId": "b3ca7fb8-2641-4e8e-8e1e-44e71e3f4231"
      },
      "outputs": [
        {
          "output_type": "execute_result",
          "data": {
            "text/plain": [
              "<Axes: >"
            ]
          },
          "metadata": {},
          "execution_count": 28
        },
        {
          "output_type": "display_data",
          "data": {
            "text/plain": [
              "<Figure size 640x480 with 2 Axes>"
            ],
            "image/png": "[encoded data removed]"
          },
          "metadata": {}
        }
      ],
      "source": [
        "# 히트맵 시각화\n",
        "sns.heatmap(data = cs_np.reshape(4,4), annot = True, fmt = '.2f', linewidths=.5)"
      ]
    },
    {
      "cell_type": "code",
      "source": [],
      "metadata": {
        "id": "VqedHcxrw6UY"
      },
      "execution_count": null,
      "outputs": []
    }
  ],
  "metadata": {
    "kernelspec": {
      "display_name": "Python 3",
      "language": "python",
      "name": "python3"
    },
    "language_info": {
      "codemirror_mode": {
        "name": "ipython",
        "version": 3
      },
      "file_extension": ".py",
      "mimetype": "text/x-python",
      "name": "python",
      "nbconvert_exporter": "python",
      "pygments_lexer": "ipython3",
      "version": "3.7.4"
    },
    "colab": {
      "provenance": [],
      "include_colab_link": true
    }
  },
  "nbformat": 4,
  "nbformat_minor": 0
}